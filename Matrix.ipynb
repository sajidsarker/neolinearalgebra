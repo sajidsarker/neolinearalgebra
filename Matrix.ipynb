{
 "cells": [
  {
   "cell_type": "code",
   "execution_count": 27,
   "metadata": {},
   "outputs": [],
   "source": [
    "import math\n",
    "\n",
    "class Matrix:\n",
    "    \n",
    "    def __init__(self, data):\n",
    "        if self.check_integrity(data) == False:\n",
    "            raise Exception('Matrix is incorrectly configured with empty matrix or row, column, or data type mismatch. Please provide a list of lists containing only ints or floats of consistent dimensions.')\n",
    "        self.data = data\n",
    "        self.rows = len(data)\n",
    "        self.cols = len(data[0])\n",
    "        self.shape = (self.rows, self.cols)\n",
    "        self.size = self.rows * self.cols\n",
    "\n",
    "    def check_integrity(self, data) -> bool:\n",
    "        '''\n",
    "        Args - data (list): ...\n",
    "        Returns - bool\n",
    "        '''\n",
    "        # Check if provided matrix is a list\n",
    "        if isinstance(data, list) == False:\n",
    "            return False\n",
    "        \n",
    "        # Check if provided matrix is a list of lists\n",
    "        checks = [isinstance(x, list) == False for x in data]\n",
    "        if True in checks:\n",
    "            return False\n",
    "        \n",
    "        # Check if provided matrix has consistent dimensions\n",
    "        ncols = [len(x) for x in data]\n",
    "        if sum(ncols) / len(ncols) != ncols[0]:\n",
    "            return False\n",
    "        \n",
    "        # Check if provided matrix has empty columns\n",
    "        if ncols[0] == 0:\n",
    "            return False\n",
    "        \n",
    "        # Check if provided matrix contains values of type int or float only\n",
    "        for i in range(len(data)):\n",
    "            checks = [isinstance(x, (int, float)) == False for x in data[i]]\n",
    "            if sum(checks) > 0:\n",
    "                return False\n",
    "\n",
    "    def assign(self, row, col, value) -> None:\n",
    "        if isinstance(value, (int, float)) == False:\n",
    "            raise Exception('Value must be of type int or float only.')\n",
    "        self.data[row][col] = value\n",
    "\n",
    "    def fill(self, rows, cols, value) -> None:\n",
    "        if isinstance(value, (int, float)) == False:\n",
    "            raise Exception('Value must be of type int or float only.')\n",
    "        for i in range(rows[0], rows[1], 1):\n",
    "            for j in range(cols[0], cols[1], 1):\n",
    "                self.assign(i, j, value)\n",
    "    \n",
    "    def retrieve(self, row, col) -> (int, float):\n",
    "        return self.data[row][col]\n",
    "\n",
    "    def diagonal(self) -> object:\n",
    "        matrix = []\n",
    "        for i in range(self.rows):\n",
    "            if i < self.cols:\n",
    "                matrix.append([self.data[i][i]])\n",
    "        return Matrix(matrix)\n",
    "    \n",
    "    def magnitude(self) -> float:\n",
    "        if not (self.shape[0] == 1 or self.shape[1] == 1):\n",
    "            raise Exception('Matrix must be a row or column vector only.')\n",
    "        matrix = []\n",
    "        for i in range(self.rows):\n",
    "            for j in range(self.cols):\n",
    "                matrix.append(self.data[i][j]**2)\n",
    "        return math.sqrt(sum(matrix))\n",
    "\n",
    "    def transpose(self) -> object:\n",
    "        matrix, row = [], []\n",
    "        for j in range(self.cols):\n",
    "            for i in range(self.rows):\n",
    "                row.append(self.data[i][j])\n",
    "            matrix.append(row)\n",
    "            row = []\n",
    "        return Matrix(matrix)\n",
    "\n",
    "    # TODO\n",
    "    def inverse(self) -> object:\n",
    "        if self.shape[0] != self.shape[1] and self.shape[0] < 2:\n",
    "            raise Exception('Matrix is not invertible as it is a non-square matrix. Please provide a square matrix with dimensions greater than or equal to (2, 2).')\n",
    "        matrix = [[1], [0]]\n",
    "        return Matrix(matrix)\n",
    "\n",
    "    def determinant(self) -> float:\n",
    "        if self.shape[0] != self.shape[1] and self.shape[0] < 2:\n",
    "            raise Exception('Matrix determinant cannot be derived as it is a non-square matrix. Please provide a square matrix with dimensions greater than or equal to (2, 2).')\n",
    "\n",
    "        matrix, data = self.data, self.data\n",
    "        indices = list(range(len(matrix)))\n",
    "        det = 0\n",
    "\n",
    "        if len(matrix) == 2 and len(matrix[0]) == 2:\n",
    "            det = matrix[0][0] * matrix[1][1] - matrix[1][0] * matrix[0][1]\n",
    "            return det\n",
    "        \n",
    "        for focus_column in indices:\n",
    "            matrix.remove(matrix[0])\n",
    "            rows = len(matrix)\n",
    "            for i in range(rows):\n",
    "                matrix[i] = matrix[i][0:focus_column].extend(matrix[i][focus_column+1:])\n",
    "\n",
    "        sub_det = Matrix(matrix).determinant()\n",
    "        det += (-1)**(focus_column % 2) * matrix[0][focus_column] * sub_det\n",
    "\n",
    "        return det\n",
    "\n",
    "    def __add__(self, other) -> object:\n",
    "        if other.shape != self.shape:\n",
    "            raise Exception('Matrix dimensions are mismatched ({} != {}). Please add (2) matrices of the same dimensions.'.format(self.shape, other.shape))\n",
    "        data, output = self.data, []\n",
    "        for i in range(self.rows):\n",
    "            output.append([])\n",
    "            for j in range(self.cols):\n",
    "                output[i].append(self.data[i][j] + other.data[i][j])\n",
    "        self.data = data\n",
    "        return Matrix(output)\n",
    "    \n",
    "    def __ladd__(self, other) -> object:\n",
    "        return self.__add__(other)\n",
    "\n",
    "    def __radd__(self, other) -> object:\n",
    "        return self.__add__(other)\n",
    "\n",
    "    def __sub__(self, other) -> object:\n",
    "        if other.shape != self.shape:\n",
    "            raise Exception('Matrix dimensions are mismatched ({} != {}). Please subtract (2) matrices of the same dimensions.'.format(self.shape, other.shape))\n",
    "        data, output = self.data, []\n",
    "        for i in range(self.rows):\n",
    "            output.append([])\n",
    "            for j in range(self.cols):\n",
    "                output[i].append(self.data[i][j] - other.data[i][j])\n",
    "        self.data = data\n",
    "        return Matrix(output)\n",
    "    \n",
    "    def __lsub__(self, other) -> object:\n",
    "        return self.__sub__(other)\n",
    "\n",
    "    def __rsub__(self, other) -> object:\n",
    "        return self.__sub__(other)\n",
    "\n",
    "    def __mul__(self, other) -> object:\n",
    "        if isinstance(other, Matrix) == False:\n",
    "            if isinstance(other, (int, float)) == False:\n",
    "                raise Exception('Expecting a matrix or a scalar of type int or float only.')\n",
    "        else:\n",
    "            if self.size != other.size:\n",
    "                raise Exception('Matrix dimensions are mismatched for pointwise matrix multiplication ({} != {})'.format(self.shape, other.shape))\n",
    "\n",
    "        data, output = self.data, []\n",
    "        \n",
    "        # Scalar multiplication\n",
    "        if isinstance(other, (int, float)):\n",
    "            for i in range(self.rows):\n",
    "                output.append([])\n",
    "                for j in range(self.cols):\n",
    "                    output[i].append(self.data[i][j] * other)\n",
    "\n",
    "        # Matrix multiplication (pointwise)\n",
    "        if isinstance(other, Matrix):\n",
    "            for i in range(self.rows):\n",
    "                output.append([])\n",
    "                for j in range(self.cols):\n",
    "                    output[i].append(self.data[i][j] * other.data[i][j])\n",
    "\n",
    "        self.data = data\n",
    "        return Matrix(output)\n",
    "\n",
    "    def __lmul__(self, other) -> object:\n",
    "        return self.__mul__(other)\n",
    "\n",
    "    def __rmul__(self, other) -> object:\n",
    "        return self.__mul__(other)\n",
    "\n",
    "    def __matmul__(self, other) -> object:\n",
    "        if self.cols != other.rows:\n",
    "            raise Exception('Matrix dimensions are mismatched for matrix multiplication ({} @ {}: {} != {})'.format(self.shape, other.shape, self.shape[1], other.shape[0]))\n",
    "        data, output = self.data, []\n",
    "        n, m = self.shape[1], self.shape[1]\n",
    "        for i in range(n):\n",
    "            output.append([])\n",
    "            for j in range(m):\n",
    "                value = 0\n",
    "                for k in range(n):\n",
    "                    value += self.data[i][k] * other.data[k][j]\n",
    "                output[i].append(value)\n",
    "        self.data = data\n",
    "        return Matrix(output)\n",
    "    \n",
    "    def __lmatmul__(self, other) -> object:\n",
    "        return __matmul__(self, other)\n",
    "    \n",
    "    def __rmatmul__(self, other) -> object:\n",
    "        return __matmul__(self, other)\n",
    "\n",
    "    def __repr__(self) -> str:\n",
    "        matrix = str(self.data).replace('],', '],\\n ')\n",
    "        return \"<class: 'Matrix'>\\nDimensions: {} row(s) x {} column(s)\\n {}\\nSize: {}\".format(self.rows, self.cols, matrix, self.size)"
   ]
  },
  {
   "cell_type": "code",
   "execution_count": 28,
   "metadata": {},
   "outputs": [],
   "source": [
    "def determinant_recursive(A, total=0):\n",
    "    # Section 1: store indices in list for row referencing\n",
    "    indices = list(range(len(A)))\n",
    "     \n",
    "    # Section 2: when at 2x2 submatrices recursive calls end\n",
    "    if len(A) == 2 and len(A[0]) == 2:\n",
    "        val = A[0][0] * A[1][1] - A[1][0] * A[0][1]\n",
    "        return val\n",
    " \n",
    "    # Section 3: define submatrix for focus column and \n",
    "    #      call this function\n",
    "    for fc in indices: # A) for each focus column, ...\n",
    "        # find the submatrix ...\n",
    "        As = copy_matrix(A) # B) make a copy, and ...\n",
    "        As = As[1:] # ... C) remove the first row\n",
    "        height = len(As) # D) \n",
    " \n",
    "        for i in range(height): \n",
    "            # E) for each remaining row of submatrix ...\n",
    "            #     remove the focus column elements\n",
    "            As[i] = As[i][0:fc] + As[i][fc+1:] \n",
    " \n",
    "        sign = (-1) ** (fc % 2) # F) \n",
    "        # G) pass submatrix recursively\n",
    "        sub_det = determinant_recursive(As)\n",
    "        # H) total all returns from recursion\n",
    "        total += sign * A[0][fc] * sub_det \n",
    " \n",
    "    return total"
   ]
  },
  {
   "cell_type": "code",
   "execution_count": 29,
   "metadata": {},
   "outputs": [],
   "source": [
    "A = Matrix([[1, 0, 0, 0], [0, 2, 2, 0], [0, 0, 3, 0], [0, 0, 0, 4]])"
   ]
  },
  {
   "cell_type": "code",
   "execution_count": 30,
   "metadata": {},
   "outputs": [
    {
     "data": {
      "text/plain": [
       "<class: 'Matrix'>\n",
       "Dimensions: 4 row(s) x 4 column(s)\n",
       " [[1, 0, 0, 0],\n",
       "  [0, 2, 2, 0],\n",
       "  [0, 0, 3, 0],\n",
       "  [0, 0, 0, 4]]\n",
       "Size: 16"
      ]
     },
     "execution_count": 30,
     "metadata": {},
     "output_type": "execute_result"
    }
   ],
   "source": [
    "A"
   ]
  },
  {
   "cell_type": "code",
   "execution_count": 31,
   "metadata": {},
   "outputs": [],
   "source": [
    "A.fill((0, 2), (0, 2), 5)"
   ]
  },
  {
   "cell_type": "code",
   "execution_count": 32,
   "metadata": {},
   "outputs": [
    {
     "ename": "Exception",
     "evalue": "Matrix must be a row or column vector only.",
     "output_type": "error",
     "traceback": [
      "\u001b[0;31m---------------------------------------------------------------------------\u001b[0m",
      "\u001b[0;31mException\u001b[0m                                 Traceback (most recent call last)",
      "Input \u001b[0;32mIn [32]\u001b[0m, in \u001b[0;36m<cell line: 1>\u001b[0;34m()\u001b[0m\n\u001b[0;32m----> 1\u001b[0m \u001b[43mA\u001b[49m\u001b[38;5;241;43m.\u001b[39;49m\u001b[43mmagnitude\u001b[49m\u001b[43m(\u001b[49m\u001b[43m)\u001b[49m\n",
      "Input \u001b[0;32mIn [27]\u001b[0m, in \u001b[0;36mMatrix.magnitude\u001b[0;34m(self)\u001b[0m\n\u001b[1;32m     65\u001b[0m \u001b[38;5;28;01mdef\u001b[39;00m \u001b[38;5;21mmagnitude\u001b[39m(\u001b[38;5;28mself\u001b[39m) \u001b[38;5;241m-\u001b[39m\u001b[38;5;241m>\u001b[39m \u001b[38;5;28mfloat\u001b[39m:\n\u001b[1;32m     66\u001b[0m     \u001b[38;5;28;01mif\u001b[39;00m \u001b[38;5;129;01mnot\u001b[39;00m (\u001b[38;5;28mself\u001b[39m\u001b[38;5;241m.\u001b[39mshape[\u001b[38;5;241m0\u001b[39m] \u001b[38;5;241m==\u001b[39m \u001b[38;5;241m1\u001b[39m \u001b[38;5;129;01mor\u001b[39;00m \u001b[38;5;28mself\u001b[39m\u001b[38;5;241m.\u001b[39mshape[\u001b[38;5;241m1\u001b[39m] \u001b[38;5;241m==\u001b[39m \u001b[38;5;241m1\u001b[39m):\n\u001b[0;32m---> 67\u001b[0m         \u001b[38;5;28;01mraise\u001b[39;00m \u001b[38;5;167;01mException\u001b[39;00m(\u001b[38;5;124m'\u001b[39m\u001b[38;5;124mMatrix must be a row or column vector only.\u001b[39m\u001b[38;5;124m'\u001b[39m)\n\u001b[1;32m     68\u001b[0m     matrix \u001b[38;5;241m=\u001b[39m []\n\u001b[1;32m     69\u001b[0m     \u001b[38;5;28;01mfor\u001b[39;00m i \u001b[38;5;129;01min\u001b[39;00m \u001b[38;5;28mrange\u001b[39m(\u001b[38;5;28mself\u001b[39m\u001b[38;5;241m.\u001b[39mrows):\n",
      "\u001b[0;31mException\u001b[0m: Matrix must be a row or column vector only."
     ]
    }
   ],
   "source": [
    "A.magnitude()"
   ]
  },
  {
   "cell_type": "code",
   "execution_count": 33,
   "metadata": {},
   "outputs": [
    {
     "name": "stdout",
     "output_type": "stream",
     "text": [
      "(4, 4)\n",
      "16\n"
     ]
    }
   ],
   "source": [
    "print(A.shape)\n",
    "print(A.size)"
   ]
  },
  {
   "cell_type": "code",
   "execution_count": 34,
   "metadata": {},
   "outputs": [
    {
     "data": {
      "text/plain": [
       "<class: 'Matrix'>\n",
       "Dimensions: 4 row(s) x 4 column(s)\n",
       " [[5, 5, 0, 0],\n",
       "  [5, 5, 0, 0],\n",
       "  [0, 2, 3, 0],\n",
       "  [0, 0, 0, 4]]\n",
       "Size: 16"
      ]
     },
     "execution_count": 34,
     "metadata": {},
     "output_type": "execute_result"
    }
   ],
   "source": [
    "A.transpose()"
   ]
  },
  {
   "cell_type": "code",
   "execution_count": 35,
   "metadata": {},
   "outputs": [
    {
     "data": {
      "text/plain": [
       "<class: 'Matrix'>\n",
       "Dimensions: 4 row(s) x 4 column(s)\n",
       " [[10, 10, 0, 0],\n",
       "  [10, 10, 4, 0],\n",
       "  [0, 0, 6, 0],\n",
       "  [0, 0, 0, 8]]\n",
       "Size: 16"
      ]
     },
     "execution_count": 35,
     "metadata": {},
     "output_type": "execute_result"
    }
   ],
   "source": [
    "A+A"
   ]
  },
  {
   "cell_type": "code",
   "execution_count": 36,
   "metadata": {},
   "outputs": [
    {
     "data": {
      "text/plain": [
       "<class: 'Matrix'>\n",
       "Dimensions: 4 row(s) x 4 column(s)\n",
       " [[0, 0, 0, 0],\n",
       "  [0, 0, 0, 0],\n",
       "  [0, 0, 0, 0],\n",
       "  [0, 0, 0, 0]]\n",
       "Size: 16"
      ]
     },
     "execution_count": 36,
     "metadata": {},
     "output_type": "execute_result"
    }
   ],
   "source": [
    "A-A"
   ]
  },
  {
   "cell_type": "code",
   "execution_count": 37,
   "metadata": {},
   "outputs": [
    {
     "data": {
      "text/plain": [
       "<class: 'Matrix'>\n",
       "Dimensions: 4 row(s) x 4 column(s)\n",
       " [[5, 5, 0, 0],\n",
       "  [5, 5, 2, 0],\n",
       "  [0, 0, 3, 0],\n",
       "  [0, 0, 0, 4]]\n",
       "Size: 16"
      ]
     },
     "execution_count": 37,
     "metadata": {},
     "output_type": "execute_result"
    }
   ],
   "source": [
    "A"
   ]
  },
  {
   "cell_type": "code",
   "execution_count": 38,
   "metadata": {},
   "outputs": [
    {
     "data": {
      "text/plain": [
       "<class: 'Matrix'>\n",
       "Dimensions: 4 row(s) x 4 column(s)\n",
       " [[10, 10, 0, 0],\n",
       "  [10, 10, 4, 0],\n",
       "  [0, 0, 6, 0],\n",
       "  [0, 0, 0, 8]]\n",
       "Size: 16"
      ]
     },
     "execution_count": 38,
     "metadata": {},
     "output_type": "execute_result"
    }
   ],
   "source": [
    "A * 2"
   ]
  },
  {
   "cell_type": "code",
   "execution_count": 39,
   "metadata": {},
   "outputs": [
    {
     "data": {
      "text/plain": [
       "<class: 'Matrix'>\n",
       "Dimensions: 4 row(s) x 4 column(s)\n",
       " [[10, 10, 0, 0],\n",
       "  [10, 10, 0, 0],\n",
       "  [0, 4, 6, 0],\n",
       "  [0, 0, 0, 8]]\n",
       "Size: 16"
      ]
     },
     "execution_count": 39,
     "metadata": {},
     "output_type": "execute_result"
    }
   ],
   "source": [
    "A.transpose() * 2"
   ]
  },
  {
   "cell_type": "code",
   "execution_count": 40,
   "metadata": {},
   "outputs": [
    {
     "data": {
      "text/plain": [
       "<class: 'Matrix'>\n",
       "Dimensions: 4 row(s) x 4 column(s)\n",
       " [[20, 20, 0, 0],\n",
       "  [20, 20, 8, 0],\n",
       "  [0, 0, 12, 0],\n",
       "  [0, 0, 0, 16]]\n",
       "Size: 16"
      ]
     },
     "execution_count": 40,
     "metadata": {},
     "output_type": "execute_result"
    }
   ],
   "source": [
    "2 * A - A + 3 * A"
   ]
  },
  {
   "cell_type": "code",
   "execution_count": 41,
   "metadata": {},
   "outputs": [
    {
     "data": {
      "text/plain": [
       "<class: 'Matrix'>\n",
       "Dimensions: 4 row(s) x 4 column(s)\n",
       " [[25, 25, 0, 0],\n",
       "  [25, 25, 4, 0],\n",
       "  [0, 0, 9, 0],\n",
       "  [0, 0, 0, 16]]\n",
       "Size: 16"
      ]
     },
     "execution_count": 41,
     "metadata": {},
     "output_type": "execute_result"
    }
   ],
   "source": [
    "A * A"
   ]
  },
  {
   "cell_type": "code",
   "execution_count": 42,
   "metadata": {},
   "outputs": [
    {
     "data": {
      "text/plain": [
       "<class: 'Matrix'>\n",
       "Dimensions: 4 row(s) x 4 column(s)\n",
       " [[5, 5, 0, 0],\n",
       "  [5, 5, 2, 0],\n",
       "  [0, 0, 3, 0],\n",
       "  [0, 0, 0, 4]]\n",
       "Size: 16"
      ]
     },
     "execution_count": 42,
     "metadata": {},
     "output_type": "execute_result"
    }
   ],
   "source": [
    "A"
   ]
  },
  {
   "cell_type": "code",
   "execution_count": 43,
   "metadata": {},
   "outputs": [
    {
     "data": {
      "text/plain": [
       "<class: 'Matrix'>\n",
       "Dimensions: 4 row(s) x 1 column(s)\n",
       " [[5],\n",
       "  [5],\n",
       "  [3],\n",
       "  [4]]\n",
       "Size: 4"
      ]
     },
     "execution_count": 43,
     "metadata": {},
     "output_type": "execute_result"
    }
   ],
   "source": [
    "A.diagonal()"
   ]
  },
  {
   "cell_type": "code",
   "execution_count": 44,
   "metadata": {},
   "outputs": [],
   "source": [
    "B = Matrix([[1], [0]])"
   ]
  },
  {
   "cell_type": "code",
   "execution_count": 45,
   "metadata": {},
   "outputs": [
    {
     "data": {
      "text/plain": [
       "<class: 'Matrix'>\n",
       "Dimensions: 2 row(s) x 1 column(s)\n",
       " [[1],\n",
       "  [0]]\n",
       "Size: 2"
      ]
     },
     "execution_count": 45,
     "metadata": {},
     "output_type": "execute_result"
    }
   ],
   "source": [
    "B"
   ]
  },
  {
   "cell_type": "code",
   "execution_count": 46,
   "metadata": {},
   "outputs": [
    {
     "data": {
      "text/plain": [
       "<class: 'Matrix'>\n",
       "Dimensions: 4 row(s) x 4 column(s)\n",
       " [[50, 50, 10, 0],\n",
       "  [50, 50, 16, 0],\n",
       "  [0, 0, 9, 0],\n",
       "  [0, 0, 0, 16]]\n",
       "Size: 16"
      ]
     },
     "execution_count": 46,
     "metadata": {},
     "output_type": "execute_result"
    }
   ],
   "source": [
    "A @ A"
   ]
  },
  {
   "cell_type": "code",
   "execution_count": 47,
   "metadata": {},
   "outputs": [
    {
     "ename": "Exception",
     "evalue": "Matrix dimensions are mismatched for matrix multiplication ((4, 4) @ (2, 1): 4 != 2)",
     "output_type": "error",
     "traceback": [
      "\u001b[0;31m---------------------------------------------------------------------------\u001b[0m",
      "\u001b[0;31mException\u001b[0m                                 Traceback (most recent call last)",
      "Input \u001b[0;32mIn [47]\u001b[0m, in \u001b[0;36m<cell line: 1>\u001b[0;34m()\u001b[0m\n\u001b[0;32m----> 1\u001b[0m \u001b[43mA\u001b[49m\u001b[43m \u001b[49m\u001b[38;5;241;43m@\u001b[39;49m\u001b[43m \u001b[49m\u001b[43mB\u001b[49m\n",
      "Input \u001b[0;32mIn [27]\u001b[0m, in \u001b[0;36mMatrix.__matmul__\u001b[0;34m(self, other)\u001b[0m\n\u001b[1;32m    180\u001b[0m \u001b[38;5;28;01mdef\u001b[39;00m \u001b[38;5;21m__matmul__\u001b[39m(\u001b[38;5;28mself\u001b[39m, other) \u001b[38;5;241m-\u001b[39m\u001b[38;5;241m>\u001b[39m \u001b[38;5;28mobject\u001b[39m:\n\u001b[1;32m    181\u001b[0m     \u001b[38;5;28;01mif\u001b[39;00m \u001b[38;5;28mself\u001b[39m\u001b[38;5;241m.\u001b[39mcols \u001b[38;5;241m!=\u001b[39m other\u001b[38;5;241m.\u001b[39mrows:\n\u001b[0;32m--> 182\u001b[0m         \u001b[38;5;28;01mraise\u001b[39;00m \u001b[38;5;167;01mException\u001b[39;00m(\u001b[38;5;124m'\u001b[39m\u001b[38;5;124mMatrix dimensions are mismatched for matrix multiplication (\u001b[39m\u001b[38;5;132;01m{}\u001b[39;00m\u001b[38;5;124m @ \u001b[39m\u001b[38;5;132;01m{}\u001b[39;00m\u001b[38;5;124m: \u001b[39m\u001b[38;5;132;01m{}\u001b[39;00m\u001b[38;5;124m != \u001b[39m\u001b[38;5;132;01m{}\u001b[39;00m\u001b[38;5;124m)\u001b[39m\u001b[38;5;124m'\u001b[39m\u001b[38;5;241m.\u001b[39mformat(\u001b[38;5;28mself\u001b[39m\u001b[38;5;241m.\u001b[39mshape, other\u001b[38;5;241m.\u001b[39mshape, \u001b[38;5;28mself\u001b[39m\u001b[38;5;241m.\u001b[39mshape[\u001b[38;5;241m1\u001b[39m], other\u001b[38;5;241m.\u001b[39mshape[\u001b[38;5;241m0\u001b[39m]))\n\u001b[1;32m    183\u001b[0m     data, output \u001b[38;5;241m=\u001b[39m \u001b[38;5;28mself\u001b[39m\u001b[38;5;241m.\u001b[39mdata, []\n\u001b[1;32m    184\u001b[0m     n, m \u001b[38;5;241m=\u001b[39m \u001b[38;5;28mself\u001b[39m\u001b[38;5;241m.\u001b[39mshape[\u001b[38;5;241m1\u001b[39m], \u001b[38;5;28mself\u001b[39m\u001b[38;5;241m.\u001b[39mshape[\u001b[38;5;241m1\u001b[39m]\n",
      "\u001b[0;31mException\u001b[0m: Matrix dimensions are mismatched for matrix multiplication ((4, 4) @ (2, 1): 4 != 2)"
     ]
    }
   ],
   "source": [
    "A @ B"
   ]
  },
  {
   "cell_type": "code",
   "execution_count": 48,
   "metadata": {},
   "outputs": [
    {
     "data": {
      "text/plain": [
       "<class: 'Matrix'>\n",
       "Dimensions: 1 row(s) x 1 column(s)\n",
       " [[1]]\n",
       "Size: 1"
      ]
     },
     "execution_count": 48,
     "metadata": {},
     "output_type": "execute_result"
    }
   ],
   "source": [
    "B.diagonal()"
   ]
  },
  {
   "cell_type": "code",
   "execution_count": 49,
   "metadata": {},
   "outputs": [],
   "source": [
    "B.assign(0, 0, 5)"
   ]
  },
  {
   "cell_type": "code",
   "execution_count": 50,
   "metadata": {},
   "outputs": [
    {
     "data": {
      "text/plain": [
       "<class: 'Matrix'>\n",
       "Dimensions: 2 row(s) x 1 column(s)\n",
       " [[5],\n",
       "  [0]]\n",
       "Size: 2"
      ]
     },
     "execution_count": 50,
     "metadata": {},
     "output_type": "execute_result"
    }
   ],
   "source": [
    "B"
   ]
  },
  {
   "cell_type": "code",
   "execution_count": 51,
   "metadata": {},
   "outputs": [
    {
     "data": {
      "text/plain": [
       "5.0"
      ]
     },
     "execution_count": 51,
     "metadata": {},
     "output_type": "execute_result"
    }
   ],
   "source": [
    "B.magnitude()"
   ]
  },
  {
   "cell_type": "code",
   "execution_count": 53,
   "metadata": {},
   "outputs": [],
   "source": [
    "A.fill((0, 4), (0, 1), 7)"
   ]
  },
  {
   "cell_type": "code",
   "execution_count": 54,
   "metadata": {},
   "outputs": [
    {
     "data": {
      "text/plain": [
       "3"
      ]
     },
     "execution_count": 54,
     "metadata": {},
     "output_type": "execute_result"
    }
   ],
   "source": [
    "A.retrieve(2, 2)"
   ]
  },
  {
   "cell_type": "code",
   "execution_count": 55,
   "metadata": {},
   "outputs": [
    {
     "ename": "Exception",
     "evalue": "Matrix dimensions are mismatched ((4, 4) != (2, 1)). Please add (2) matrices of the same dimensions.",
     "output_type": "error",
     "traceback": [
      "\u001b[0;31m---------------------------------------------------------------------------\u001b[0m",
      "\u001b[0;31mException\u001b[0m                                 Traceback (most recent call last)",
      "Input \u001b[0;32mIn [55]\u001b[0m, in \u001b[0;36m<cell line: 1>\u001b[0;34m()\u001b[0m\n\u001b[0;32m----> 1\u001b[0m \u001b[43mA\u001b[49m\u001b[38;5;241;43m+\u001b[39;49m\u001b[43mB\u001b[49m\n",
      "Input \u001b[0;32mIn [27]\u001b[0m, in \u001b[0;36mMatrix.__add__\u001b[0;34m(self, other)\u001b[0m\n\u001b[1;32m    113\u001b[0m \u001b[38;5;28;01mdef\u001b[39;00m \u001b[38;5;21m__add__\u001b[39m(\u001b[38;5;28mself\u001b[39m, other) \u001b[38;5;241m-\u001b[39m\u001b[38;5;241m>\u001b[39m \u001b[38;5;28mobject\u001b[39m:\n\u001b[1;32m    114\u001b[0m     \u001b[38;5;28;01mif\u001b[39;00m other\u001b[38;5;241m.\u001b[39mshape \u001b[38;5;241m!=\u001b[39m \u001b[38;5;28mself\u001b[39m\u001b[38;5;241m.\u001b[39mshape:\n\u001b[0;32m--> 115\u001b[0m         \u001b[38;5;28;01mraise\u001b[39;00m \u001b[38;5;167;01mException\u001b[39;00m(\u001b[38;5;124m'\u001b[39m\u001b[38;5;124mMatrix dimensions are mismatched (\u001b[39m\u001b[38;5;132;01m{}\u001b[39;00m\u001b[38;5;124m != \u001b[39m\u001b[38;5;132;01m{}\u001b[39;00m\u001b[38;5;124m). Please add (2) matrices of the same dimensions.\u001b[39m\u001b[38;5;124m'\u001b[39m\u001b[38;5;241m.\u001b[39mformat(\u001b[38;5;28mself\u001b[39m\u001b[38;5;241m.\u001b[39mshape, other\u001b[38;5;241m.\u001b[39mshape))\n\u001b[1;32m    116\u001b[0m     data, output \u001b[38;5;241m=\u001b[39m \u001b[38;5;28mself\u001b[39m\u001b[38;5;241m.\u001b[39mdata, []\n\u001b[1;32m    117\u001b[0m     \u001b[38;5;28;01mfor\u001b[39;00m i \u001b[38;5;129;01min\u001b[39;00m \u001b[38;5;28mrange\u001b[39m(\u001b[38;5;28mself\u001b[39m\u001b[38;5;241m.\u001b[39mrows):\n",
      "\u001b[0;31mException\u001b[0m: Matrix dimensions are mismatched ((4, 4) != (2, 1)). Please add (2) matrices of the same dimensions."
     ]
    }
   ],
   "source": [
    "A+B"
   ]
  },
  {
   "cell_type": "code",
   "execution_count": 56,
   "metadata": {},
   "outputs": [
    {
     "ename": "Exception",
     "evalue": "Matrix is incorrectly configured with empty matrix or row, column, or data type mismatch. Please provide a list of lists containing only ints or floats of consistent dimensions.",
     "output_type": "error",
     "traceback": [
      "\u001b[0;31m---------------------------------------------------------------------------\u001b[0m",
      "\u001b[0;31mException\u001b[0m                                 Traceback (most recent call last)",
      "Input \u001b[0;32mIn [56]\u001b[0m, in \u001b[0;36m<cell line: 1>\u001b[0;34m()\u001b[0m\n\u001b[0;32m----> 1\u001b[0m C \u001b[38;5;241m=\u001b[39m \u001b[43mMatrix\u001b[49m\u001b[43m(\u001b[49m\u001b[43m[\u001b[49m\u001b[43m[\u001b[49m\u001b[43m]\u001b[49m\u001b[43m]\u001b[49m\u001b[43m)\u001b[49m\n",
      "Input \u001b[0;32mIn [27]\u001b[0m, in \u001b[0;36mMatrix.__init__\u001b[0;34m(self, data)\u001b[0m\n\u001b[1;32m      5\u001b[0m \u001b[38;5;28;01mdef\u001b[39;00m \u001b[38;5;21m__init__\u001b[39m(\u001b[38;5;28mself\u001b[39m, data):\n\u001b[1;32m      6\u001b[0m     \u001b[38;5;28;01mif\u001b[39;00m \u001b[38;5;28mself\u001b[39m\u001b[38;5;241m.\u001b[39mcheck_integrity(data) \u001b[38;5;241m==\u001b[39m \u001b[38;5;28;01mFalse\u001b[39;00m:\n\u001b[0;32m----> 7\u001b[0m         \u001b[38;5;28;01mraise\u001b[39;00m \u001b[38;5;167;01mException\u001b[39;00m(\u001b[38;5;124m'\u001b[39m\u001b[38;5;124mMatrix is incorrectly configured with empty matrix or row, column, or data type mismatch. Please provide a list of lists containing only ints or floats of consistent dimensions.\u001b[39m\u001b[38;5;124m'\u001b[39m)\n\u001b[1;32m      8\u001b[0m     \u001b[38;5;28mself\u001b[39m\u001b[38;5;241m.\u001b[39mdata \u001b[38;5;241m=\u001b[39m data\n\u001b[1;32m      9\u001b[0m     \u001b[38;5;28mself\u001b[39m\u001b[38;5;241m.\u001b[39mrows \u001b[38;5;241m=\u001b[39m \u001b[38;5;28mlen\u001b[39m(data)\n",
      "\u001b[0;31mException\u001b[0m: Matrix is incorrectly configured with empty matrix or row, column, or data type mismatch. Please provide a list of lists containing only ints or floats of consistent dimensions."
     ]
    }
   ],
   "source": [
    "C = Matrix([[]])"
   ]
  },
  {
   "cell_type": "code",
   "execution_count": 58,
   "metadata": {},
   "outputs": [
    {
     "data": {
      "text/plain": [
       "<class: 'Matrix'>\n",
       "Dimensions: 4 row(s) x 4 column(s)\n",
       " [[7, 5, 0, 0],\n",
       "  [7, 5, 2, 0],\n",
       "  [7, 0, 3, 0],\n",
       "  [7, 0, 0, 4]]\n",
       "Size: 16"
      ]
     },
     "execution_count": 58,
     "metadata": {},
     "output_type": "execute_result"
    }
   ],
   "source": [
    "A"
   ]
  }
 ],
 "metadata": {
  "kernelspec": {
   "display_name": "Python 3 (ipykernel)",
   "language": "python",
   "name": "python3"
  },
  "language_info": {
   "codemirror_mode": {
    "name": "ipython",
    "version": 3
   },
   "file_extension": ".py",
   "mimetype": "text/x-python",
   "name": "python",
   "nbconvert_exporter": "python",
   "pygments_lexer": "ipython3",
   "version": "3.10.6"
  }
 },
 "nbformat": 4,
 "nbformat_minor": 4
}
