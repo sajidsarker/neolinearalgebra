{
 "cells": [
  {
   "cell_type": "code",
   "execution_count": 28,
   "metadata": {},
   "outputs": [],
   "source": [
    "class Matrix:\n",
    "    \n",
    "    def __init__(self, data):\n",
    "        if self.check_integrity(data) == False:\n",
    "            raise Exception('Matrix is incorrectly configured with row, column, or data type mismatch. Please provide a list of lists containing only ints or floats of consistent dimensions.')\n",
    "        self.data = data\n",
    "        self.rows = len(data)\n",
    "        self.cols = len(data[0])\n",
    "        self.shape = (self.rows, self.cols)\n",
    "        self.size = self.rows * self.cols\n",
    "\n",
    "    def check_integrity(self, data) -> bool:\n",
    "        '''\n",
    "        Args - data (list): ...\n",
    "        Returns - bool\n",
    "        '''\n",
    "        # Check if provided matrix is a list\n",
    "        if isinstance(data, list) == False:\n",
    "            return False\n",
    "        \n",
    "        # Check if provided matrix is a list of lists\n",
    "        checks = [isinstance(x, list) == False for x in data]\n",
    "        if True in checks:\n",
    "            return False\n",
    "        \n",
    "        # Check if provided matrix has consistent dimensions\n",
    "        ncols = [len(x) for x in data]\n",
    "        if sum(ncols) / len(ncols) != ncols[0]:\n",
    "            return False\n",
    "        \n",
    "        # Check if provided matrix contains values of type int or float only\n",
    "        for i in range(len(data)):\n",
    "            checks = [isinstance(x, (int, float)) == False for x in data[i]]\n",
    "            if sum(checks) > 0:\n",
    "                return False\n",
    "\n",
    "    def assign(self, row, col, value) -> None:\n",
    "        if isinstance(value, (int, float)) == False:\n",
    "            raise Exception('Value must be of type int or float only.')\n",
    "        self.data[row][col] = value\n",
    "    \n",
    "    # TODO\n",
    "    def fill(self, row_range, col_range, value) -> None:\n",
    "        if isinstance(value, (int, float)) == False:\n",
    "            raise Exception('Value must be of type int or float only.')\n",
    "        self.data[row_range][col_range] = value\n",
    "    \n",
    "    def retrieve(self, row, col) -> (int, float):\n",
    "        return self.data[row][col]\n",
    "\n",
    "    def diagonal(self) -> Matrix:\n",
    "        matrix = []\n",
    "        for i in range(self.rows):\n",
    "            if i < self.cols:\n",
    "                matrix.append([self.data[i][i]])\n",
    "        return Matrix(matrix)\n",
    "\n",
    "    def transpose(self) -> Matrix:\n",
    "        matrix, row = [], []\n",
    "        for j in range(self.cols):\n",
    "            for i in range(self.rows):\n",
    "                row.append(self.data[i][j])\n",
    "            matrix.append(row)\n",
    "            row = []\n",
    "        return Matrix(matrix)\n",
    "\n",
    "    # TODO\n",
    "    def inverse(self) -> Matrix:\n",
    "        if self.shape[0] != self.shape[1] and self.shape[0] < 2:\n",
    "            raise Exception('Matrix is not invertible as it is a non-square matrix. Please provide a square matrix with dimensions greater than or equal to (2, 2).')\n",
    "        matrix = [[1], [0]]\n",
    "        return Matrix(matrix)\n",
    "\n",
    "    # TODO\n",
    "    def determinant(self) -> float:\n",
    "        if self.shape[0] != self.shape[1] and self.shape[0] < 2:\n",
    "            raise Exception('Matrix determinant cannot be derived as it is a non-square matrix. Please provide a square matrix with dimensions greater than or equal to (2, 2).')\n",
    "        return 0\n",
    "\n",
    "    def __add__(self, other) -> Matrix:\n",
    "        if other.shape != self.shape:\n",
    "            raise Exception('Matrix dimensions are mismatched ({} != {}). Please add (2) matrices of the same dimensions.'.format(self.shape, other.shape))\n",
    "        data, output = self.data, []\n",
    "        for i in range(self.rows):\n",
    "            output.append([])\n",
    "            for j in range(self.cols):\n",
    "                output[i].append(self.data[i][j] + other.data[i][j])\n",
    "        self.data = data\n",
    "        return Matrix(output)\n",
    "\n",
    "    def __sub__(self, other) -> Matrix:\n",
    "        if other.shape != self.shape:\n",
    "            raise Exception('Matrix dimensions are mismatched ({} != {}). Please subtract (2) matrices of the same dimensions.'.format(self.shape, other.shape))\n",
    "        data, output = self.data, []\n",
    "        for i in range(self.rows):\n",
    "            output.append([])\n",
    "            for j in range(self.cols):\n",
    "                output[i].append(self.data[i][j] - other.data[i][j])\n",
    "        self.data = data\n",
    "        return Matrix(output)\n",
    "\n",
    "    def __mul__(self, scalar) -> Matrix:\n",
    "        if isinstance(scalar, (int, float)) == False:\n",
    "            raise Exception('Scalar must be of type int or float only.')\n",
    "        data, output = self.data, []\n",
    "        for i in range(self.rows):\n",
    "            output.append([])\n",
    "            for j in range(self.cols):\n",
    "                output[i].append(self.data[i][j] * scalar)\n",
    "        self.data = data\n",
    "        return Matrix(output)\n",
    "\n",
    "    def __lmul__(self, scalar) -> Matrix:\n",
    "        self.__mul__(scalar)\n",
    "\n",
    "    def __rmul__(self, scalar) -> Matrix:\n",
    "        self.__mul__(scalar)\n",
    "\n",
    "    # TODO\n",
    "    #def __mul__(self, other):\n",
    "    #    pass\n",
    "\n",
    "    # TODO\n",
    "    #def cross(self, other):\n",
    "    #    pass\n",
    "\n",
    "    # TODO\n",
    "    #def dot(self, other):\n",
    "    #    pass\n",
    "\n",
    "    def __repr__(self) -> str:\n",
    "        matrix = str(self.data).replace('],', '],\\n ')\n",
    "        return \"<class: 'Matrix'>\\nDimensions: {} row(s) x {} column(s)\\n {}\\nSize: {}\".format(self.rows, self.cols, matrix, self.size)"
   ]
  },
  {
   "cell_type": "code",
   "execution_count": 32,
   "metadata": {},
   "outputs": [],
   "source": [
    "A = Matrix([[1, 0, 0, 0], [0, 2, 2, 0], [0, 0, 3, 0], [0, 0, 0, 4]])"
   ]
  },
  {
   "cell_type": "code",
   "execution_count": 34,
   "metadata": {},
   "outputs": [
    {
     "data": {
      "text/plain": [
       "<class: 'Matrix'>\n",
       "Dimensions: 4 row(s) x 4 column(s)\n",
       " [[1, 0, 0, 0],\n",
       "  [0, 2, 2, 0],\n",
       "  [0, 0, 3, 0],\n",
       "  [0, 0, 0, 4]]\n",
       "Size: 16"
      ]
     },
     "execution_count": 34,
     "metadata": {},
     "output_type": "execute_result"
    }
   ],
   "source": [
    "A"
   ]
  },
  {
   "cell_type": "code",
   "execution_count": 4,
   "metadata": {},
   "outputs": [
    {
     "name": "stdout",
     "output_type": "stream",
     "text": [
      "(4, 4)\n",
      "16\n"
     ]
    }
   ],
   "source": [
    "print(A.shape)\n",
    "print(A.size)"
   ]
  },
  {
   "cell_type": "code",
   "execution_count": 5,
   "metadata": {},
   "outputs": [
    {
     "data": {
      "text/plain": [
       "<class: 'Matrix'>\n",
       "Dimensions: 4 row(s) x 4 column(s)\n",
       " [[1, 0, 0, 0],\n",
       "  [0, 2, 0, 0],\n",
       "  [0, 2, 3, 0],\n",
       "  [0, 0, 0, 4]]\n",
       "Size: 16"
      ]
     },
     "execution_count": 5,
     "metadata": {},
     "output_type": "execute_result"
    }
   ],
   "source": [
    "A.transpose()"
   ]
  },
  {
   "cell_type": "code",
   "execution_count": 6,
   "metadata": {},
   "outputs": [
    {
     "data": {
      "text/plain": [
       "<class: 'Matrix'>\n",
       "Dimensions: 4 row(s) x 4 column(s)\n",
       " [[2, 0, 0, 0],\n",
       "  [0, 4, 4, 0],\n",
       "  [0, 0, 6, 0],\n",
       "  [0, 0, 0, 8]]\n",
       "Size: 16"
      ]
     },
     "execution_count": 6,
     "metadata": {},
     "output_type": "execute_result"
    }
   ],
   "source": [
    "A+A"
   ]
  },
  {
   "cell_type": "code",
   "execution_count": 7,
   "metadata": {},
   "outputs": [
    {
     "data": {
      "text/plain": [
       "<class: 'Matrix'>\n",
       "Dimensions: 4 row(s) x 4 column(s)\n",
       " [[0, 0, 0, 0],\n",
       "  [0, 0, 0, 0],\n",
       "  [0, 0, 0, 0],\n",
       "  [0, 0, 0, 0]]\n",
       "Size: 16"
      ]
     },
     "execution_count": 7,
     "metadata": {},
     "output_type": "execute_result"
    }
   ],
   "source": [
    "A-A"
   ]
  },
  {
   "cell_type": "code",
   "execution_count": 30,
   "metadata": {},
   "outputs": [
    {
     "data": {
      "text/plain": [
       "<class: 'Matrix'>\n",
       "Dimensions: 4 row(s) x 4 column(s)\n",
       " [[1, 0, 0, 0],\n",
       "  [0, 2, 2, 0.0],\n",
       "  [0, 0, 3, 0],\n",
       "  [0, 0, 0, 4]]\n",
       "Size: 16"
      ]
     },
     "execution_count": 30,
     "metadata": {},
     "output_type": "execute_result"
    }
   ],
   "source": [
    "A"
   ]
  },
  {
   "cell_type": "code",
   "execution_count": 9,
   "metadata": {},
   "outputs": [
    {
     "data": {
      "text/plain": [
       "<class: 'Matrix'>\n",
       "Dimensions: 4 row(s) x 4 column(s)\n",
       " [[2, 0, 0, 0],\n",
       "  [0, 4, 4, 0],\n",
       "  [0, 0, 6, 0],\n",
       "  [0, 0, 0, 8]]\n",
       "Size: 16"
      ]
     },
     "execution_count": 9,
     "metadata": {},
     "output_type": "execute_result"
    }
   ],
   "source": [
    "A * 2"
   ]
  },
  {
   "cell_type": "code",
   "execution_count": 31,
   "metadata": {},
   "outputs": [
    {
     "data": {
      "text/plain": [
       "<class: 'Matrix'>\n",
       "Dimensions: 4 row(s) x 4 column(s)\n",
       " [[2, 0, 0, 0],\n",
       "  [0, 4, 0, 0],\n",
       "  [0, 4, 6, 0],\n",
       "  [0, 0.0, 0, 8]]\n",
       "Size: 16"
      ]
     },
     "execution_count": 31,
     "metadata": {},
     "output_type": "execute_result"
    }
   ],
   "source": [
    "A.transpose() * 2"
   ]
  },
  {
   "cell_type": "code",
   "execution_count": 10,
   "metadata": {},
   "outputs": [
    {
     "data": {
      "text/plain": [
       "<class: 'Matrix'>\n",
       "Dimensions: 4 row(s) x 4 column(s)\n",
       " [[4, 0, 0, 0],\n",
       "  [0, 8, 8, 0],\n",
       "  [0, 0, 12, 0],\n",
       "  [0, 0, 0, 16]]\n",
       "Size: 16"
      ]
     },
     "execution_count": 10,
     "metadata": {},
     "output_type": "execute_result"
    }
   ],
   "source": [
    "2 * A - A + 3 * A"
   ]
  },
  {
   "cell_type": "code",
   "execution_count": 12,
   "metadata": {},
   "outputs": [
    {
     "data": {
      "text/plain": [
       "<class: 'Matrix'>\n",
       "Dimensions: 4 row(s) x 4 column(s)\n",
       " [[1, 0, 0, 0],\n",
       "  [0, 2, 2, 0],\n",
       "  [0, 0, 3, 0],\n",
       "  [0, 0, 0, 4]]\n",
       "Size: 16"
      ]
     },
     "execution_count": 12,
     "metadata": {},
     "output_type": "execute_result"
    }
   ],
   "source": [
    "A"
   ]
  },
  {
   "cell_type": "code",
   "execution_count": 13,
   "metadata": {},
   "outputs": [
    {
     "data": {
      "text/plain": [
       "<class: 'Matrix'>\n",
       "Dimensions: 4 row(s) x 1 column(s)\n",
       " [[1],\n",
       "  [2],\n",
       "  [3],\n",
       "  [4]]\n",
       "Size: 4"
      ]
     },
     "execution_count": 13,
     "metadata": {},
     "output_type": "execute_result"
    }
   ],
   "source": [
    "A.diagonal()"
   ]
  },
  {
   "cell_type": "code",
   "execution_count": 14,
   "metadata": {},
   "outputs": [],
   "source": [
    "B = Matrix([[1], [0]])"
   ]
  },
  {
   "cell_type": "code",
   "execution_count": 15,
   "metadata": {},
   "outputs": [
    {
     "data": {
      "text/plain": [
       "<class: 'Matrix'>\n",
       "Dimensions: 2 row(s) x 1 column(s)\n",
       " [[1],\n",
       "  [0]]\n",
       "Size: 2"
      ]
     },
     "execution_count": 15,
     "metadata": {},
     "output_type": "execute_result"
    }
   ],
   "source": [
    "B"
   ]
  },
  {
   "cell_type": "code",
   "execution_count": 16,
   "metadata": {},
   "outputs": [
    {
     "data": {
      "text/plain": [
       "<class: 'Matrix'>\n",
       "Dimensions: 1 row(s) x 1 column(s)\n",
       " [[1]]\n",
       "Size: 1"
      ]
     },
     "execution_count": 16,
     "metadata": {},
     "output_type": "execute_result"
    }
   ],
   "source": [
    "B.diagonal()"
   ]
  },
  {
   "cell_type": "code",
   "execution_count": 17,
   "metadata": {},
   "outputs": [],
   "source": [
    "B.assign(0, 0, 5)"
   ]
  },
  {
   "cell_type": "code",
   "execution_count": 18,
   "metadata": {},
   "outputs": [
    {
     "data": {
      "text/plain": [
       "<class: 'Matrix'>\n",
       "Dimensions: 2 row(s) x 1 column(s)\n",
       " [[5],\n",
       "  [0]]\n",
       "Size: 2"
      ]
     },
     "execution_count": 18,
     "metadata": {},
     "output_type": "execute_result"
    }
   ],
   "source": [
    "B"
   ]
  },
  {
   "cell_type": "code",
   "execution_count": 19,
   "metadata": {},
   "outputs": [
    {
     "ename": "SyntaxError",
     "evalue": "invalid syntax (<ipython-input-19-2b04fd954c7e>, line 1)",
     "output_type": "error",
     "traceback": [
      "\u001b[0;36m  File \u001b[0;32m\"<ipython-input-19-2b04fd954c7e>\"\u001b[0;36m, line \u001b[0;32m1\u001b[0m\n\u001b[0;31m    A.fill(0:4, 0:1, 7)\u001b[0m\n\u001b[0m            ^\u001b[0m\n\u001b[0;31mSyntaxError\u001b[0m\u001b[0;31m:\u001b[0m invalid syntax\n"
     ]
    }
   ],
   "source": [
    "A.fill(0:4, 0:1, 7)"
   ]
  },
  {
   "cell_type": "code",
   "execution_count": 20,
   "metadata": {},
   "outputs": [
    {
     "data": {
      "text/plain": [
       "3"
      ]
     },
     "execution_count": 20,
     "metadata": {},
     "output_type": "execute_result"
    }
   ],
   "source": [
    "A.retrieve(2, 2)"
   ]
  },
  {
   "cell_type": "code",
   "execution_count": 24,
   "metadata": {},
   "outputs": [
    {
     "ename": "Exception",
     "evalue": "Matrix dimensions are mismatched ((4, 4) != (2, 1)). Please add (2) matrices of the same dimensions.",
     "output_type": "error",
     "traceback": [
      "\u001b[0;31m---------------------------------------------------------------------------\u001b[0m",
      "\u001b[0;31mException\u001b[0m                                 Traceback (most recent call last)",
      "\u001b[0;32m<ipython-input-24-17a53b3d2418>\u001b[0m in \u001b[0;36m<module>\u001b[0;34m\u001b[0m\n\u001b[0;32m----> 1\u001b[0;31m \u001b[0mA\u001b[0m\u001b[0;34m+\u001b[0m\u001b[0mB\u001b[0m\u001b[0;34m\u001b[0m\u001b[0;34m\u001b[0m\u001b[0m\n\u001b[0m",
      "\u001b[0;32m<ipython-input-1-eae122f0278c>\u001b[0m in \u001b[0;36m__add__\u001b[0;34m(self, other)\u001b[0m\n\u001b[1;32m     80\u001b[0m     \u001b[0;32mdef\u001b[0m \u001b[0m__add__\u001b[0m\u001b[0;34m(\u001b[0m\u001b[0mself\u001b[0m\u001b[0;34m,\u001b[0m \u001b[0mother\u001b[0m\u001b[0;34m)\u001b[0m \u001b[0;34m->\u001b[0m \u001b[0mobject\u001b[0m\u001b[0;34m:\u001b[0m\u001b[0;34m\u001b[0m\u001b[0;34m\u001b[0m\u001b[0m\n\u001b[1;32m     81\u001b[0m         \u001b[0;32mif\u001b[0m \u001b[0mother\u001b[0m\u001b[0;34m.\u001b[0m\u001b[0mshape\u001b[0m \u001b[0;34m!=\u001b[0m \u001b[0mself\u001b[0m\u001b[0;34m.\u001b[0m\u001b[0mshape\u001b[0m\u001b[0;34m:\u001b[0m\u001b[0;34m\u001b[0m\u001b[0;34m\u001b[0m\u001b[0m\n\u001b[0;32m---> 82\u001b[0;31m             \u001b[0;32mraise\u001b[0m \u001b[0mException\u001b[0m\u001b[0;34m(\u001b[0m\u001b[0;34m'Matrix dimensions are mismatched ({} != {}). Please add (2) matrices of the same dimensions.'\u001b[0m\u001b[0;34m.\u001b[0m\u001b[0mformat\u001b[0m\u001b[0;34m(\u001b[0m\u001b[0mself\u001b[0m\u001b[0;34m.\u001b[0m\u001b[0mshape\u001b[0m\u001b[0;34m,\u001b[0m \u001b[0mother\u001b[0m\u001b[0;34m.\u001b[0m\u001b[0mshape\u001b[0m\u001b[0;34m)\u001b[0m\u001b[0;34m)\u001b[0m\u001b[0;34m\u001b[0m\u001b[0;34m\u001b[0m\u001b[0m\n\u001b[0m\u001b[1;32m     83\u001b[0m         \u001b[0mdata\u001b[0m\u001b[0;34m,\u001b[0m \u001b[0moutput\u001b[0m \u001b[0;34m=\u001b[0m \u001b[0mself\u001b[0m\u001b[0;34m.\u001b[0m\u001b[0mdata\u001b[0m\u001b[0;34m,\u001b[0m \u001b[0;34m[\u001b[0m\u001b[0;34m]\u001b[0m\u001b[0;34m\u001b[0m\u001b[0;34m\u001b[0m\u001b[0m\n\u001b[1;32m     84\u001b[0m         \u001b[0;32mfor\u001b[0m \u001b[0mi\u001b[0m \u001b[0;32min\u001b[0m \u001b[0mrange\u001b[0m\u001b[0;34m(\u001b[0m\u001b[0mself\u001b[0m\u001b[0;34m.\u001b[0m\u001b[0mrows\u001b[0m\u001b[0;34m)\u001b[0m\u001b[0;34m:\u001b[0m\u001b[0;34m\u001b[0m\u001b[0;34m\u001b[0m\u001b[0m\n",
      "\u001b[0;31mException\u001b[0m: Matrix dimensions are mismatched ((4, 4) != (2, 1)). Please add (2) matrices of the same dimensions."
     ]
    }
   ],
   "source": [
    "A+B"
   ]
  }
 ],
 "metadata": {
  "kernelspec": {
   "display_name": "Python 3",
   "language": "python",
   "name": "python3"
  },
  "language_info": {
   "codemirror_mode": {
    "name": "ipython",
    "version": 3
   },
   "file_extension": ".py",
   "mimetype": "text/x-python",
   "name": "python",
   "nbconvert_exporter": "python",
   "pygments_lexer": "ipython3",
   "version": "3.9.0"
  }
 },
 "nbformat": 4,
 "nbformat_minor": 4
}
