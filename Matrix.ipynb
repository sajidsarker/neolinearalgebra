{
 "cells": [
  {
   "cell_type": "code",
   "execution_count": 3,
   "metadata": {},
   "outputs": [
    {
     "ename": "NameError",
     "evalue": "name 'Matrix' is not defined",
     "output_type": "error",
     "traceback": [
      "\u001b[0;31m---------------------------------------------------------------------------\u001b[0m",
      "\u001b[0;31mNameError\u001b[0m                                 Traceback (most recent call last)",
      "Input \u001b[0;32mIn [3]\u001b[0m, in \u001b[0;36m<cell line: 3>\u001b[0;34m()\u001b[0m\n\u001b[1;32m      1\u001b[0m \u001b[38;5;28;01mimport\u001b[39;00m \u001b[38;5;21;01mmath\u001b[39;00m\n\u001b[0;32m----> 3\u001b[0m \u001b[38;5;28;01mclass\u001b[39;00m \u001b[38;5;21;01mMatrix\u001b[39;00m:\n\u001b[1;32m      5\u001b[0m     \u001b[38;5;28;01mdef\u001b[39;00m \u001b[38;5;21m__init__\u001b[39m(\u001b[38;5;28mself\u001b[39m, data):\n\u001b[1;32m      6\u001b[0m         \u001b[38;5;28;01mif\u001b[39;00m \u001b[38;5;28mself\u001b[39m\u001b[38;5;241m.\u001b[39mcheck_integrity(data) \u001b[38;5;241m==\u001b[39m \u001b[38;5;28;01mFalse\u001b[39;00m:\n",
      "Input \u001b[0;32mIn [3]\u001b[0m, in \u001b[0;36mMatrix\u001b[0;34m()\u001b[0m\n\u001b[1;32m     55\u001b[0m \u001b[38;5;28;01mdef\u001b[39;00m \u001b[38;5;21mretrieve\u001b[39m(\u001b[38;5;28mself\u001b[39m, row, col) \u001b[38;5;241m-\u001b[39m\u001b[38;5;241m>\u001b[39m (\u001b[38;5;28mint\u001b[39m, \u001b[38;5;28mfloat\u001b[39m):\n\u001b[1;32m     56\u001b[0m     \u001b[38;5;28;01mreturn\u001b[39;00m \u001b[38;5;28mself\u001b[39m\u001b[38;5;241m.\u001b[39mdata[row][col]\n\u001b[0;32m---> 58\u001b[0m \u001b[38;5;28;01mdef\u001b[39;00m \u001b[38;5;21mdiagonal\u001b[39m(\u001b[38;5;28mself\u001b[39m) \u001b[38;5;241m-\u001b[39m\u001b[38;5;241m>\u001b[39m \u001b[43mMatrix\u001b[49m:\n\u001b[1;32m     59\u001b[0m     matrix \u001b[38;5;241m=\u001b[39m []\n\u001b[1;32m     60\u001b[0m     \u001b[38;5;28;01mfor\u001b[39;00m i \u001b[38;5;129;01min\u001b[39;00m \u001b[38;5;28mrange\u001b[39m(\u001b[38;5;28mself\u001b[39m\u001b[38;5;241m.\u001b[39mrows):\n",
      "\u001b[0;31mNameError\u001b[0m: name 'Matrix' is not defined"
     ]
    }
   ],
   "source": [
    "import math\n",
    "\n",
    "class Matrix:\n",
    "    \n",
    "    def __init__(self, data):\n",
    "        if self.check_integrity(data) == False:\n",
    "            raise Exception('Matrix is incorrectly configured with empty matrix or row, column, or data type mismatch. Please provide a list of lists containing only ints or floats of consistent dimensions.')\n",
    "        self.data = data\n",
    "        self.rows = len(data)\n",
    "        self.cols = len(data[0])\n",
    "        self.shape = (self.rows, self.cols)\n",
    "        self.size = self.rows * self.cols\n",
    "\n",
    "    def check_integrity(self, data) -> bool:\n",
    "        '''\n",
    "        Args - data (list): ...\n",
    "        Returns - bool\n",
    "        '''\n",
    "        # Check if provided matrix is a list\n",
    "        if isinstance(data, list) == False:\n",
    "            return False\n",
    "        \n",
    "        # Check if provided matrix is a list of lists\n",
    "        checks = [isinstance(x, list) == False for x in data]\n",
    "        if True in checks:\n",
    "            return False\n",
    "        \n",
    "        # Check if provided matrix has consistent dimensions\n",
    "        ncols = [len(x) for x in data]\n",
    "        if sum(ncols) / len(ncols) != ncols[0]:\n",
    "            return False\n",
    "        \n",
    "        # Check if provided matrix has empty columns\n",
    "        if ncols[0] == 0:\n",
    "            return False\n",
    "        \n",
    "        # Check if provided matrix contains values of type int or float only\n",
    "        for i in range(len(data)):\n",
    "            checks = [isinstance(x, (int, float)) == False for x in data[i]]\n",
    "            if sum(checks) > 0:\n",
    "                return False\n",
    "\n",
    "    def assign(self, row, col, value) -> None:\n",
    "        if isinstance(value, (int, float)) == False:\n",
    "            raise Exception('Value must be of type int or float only.')\n",
    "        self.data[row][col] = value\n",
    "\n",
    "    def fill(self, rows, cols, value) -> None:\n",
    "        if isinstance(value, (int, float)) == False:\n",
    "            raise Exception('Value must be of type int or float only.')\n",
    "        for i in range(rows[0], rows[1], 1):\n",
    "            for j in range(cols[0], cols[1], 1):\n",
    "                self.assign(i, j, value)\n",
    "    \n",
    "    def retrieve(self, row, col) -> (int, float):\n",
    "        return self.data[row][col]\n",
    "\n",
    "    def diagonal(self) -> Matrix:\n",
    "        matrix = []\n",
    "        for i in range(self.rows):\n",
    "            if i < self.cols:\n",
    "                matrix.append([self.data[i][i]])\n",
    "        return Matrix(matrix)\n",
    "    \n",
    "    def magnitude(self) -> float:\n",
    "        if not (self.shape[0] == 1 or self.shape[1] == 1):\n",
    "            raise Exception('Matrix must be a row or column vector only.')\n",
    "        matrix = []\n",
    "        for i in range(self.rows):\n",
    "            for j in range(self.cols):\n",
    "                matrix.append(self.data[i][j]**2)\n",
    "        return math.sqrst(sum(matrix))\n",
    "\n",
    "    def transpose(self) -> Matrix:\n",
    "        matrix, row = [], []\n",
    "        for j in range(self.cols):\n",
    "            for i in range(self.rows):\n",
    "                row.append(self.data[i][j])\n",
    "            matrix.append(row)\n",
    "            row = []\n",
    "        return Matrix(matrix)\n",
    "\n",
    "    # TODO\n",
    "    def inverse(self) -> Matrix:\n",
    "        if self.shape[0] != self.shape[1] and self.shape[0] < 2:\n",
    "            raise Exception('Matrix is not invertible as it is a non-square matrix. Please provide a square matrix with dimensions greater than or equal to (2, 2).')\n",
    "        matrix = [[1], [0]]\n",
    "        return Matrix(matrix)\n",
    "\n",
    "    # TODO\n",
    "    def determinant(self) -> float:\n",
    "        if self.shape[0] != self.shape[1] and self.shape[0] < 2:\n",
    "            raise Exception('Matrix determinant cannot be derived as it is a non-square matrix. Please provide a square matrix with dimensions greater than or equal to (2, 2).')\n",
    "\n",
    "        matrix, data = self.data, self.data\n",
    "        indices = list(range(len(matrix)))\n",
    "        det = 0\n",
    "\n",
    "        if len(matrix) == 2 and len(matrix[0]) == 2:\n",
    "            det = matrix[0][0] * matrix[1][1] - matrix[1][0] * matrix[0][1]\n",
    "            return det\n",
    "        \n",
    "        for focus_column in indices:\n",
    "            matrix.remove(matrix[0])\n",
    "            rows = len(matrix)\n",
    "            for i in range(rows):\n",
    "                matrix[i] = matrix[i][0:focus_column].extend(matrix[i][focus_column+1:])\n",
    "\n",
    "        sub_det = Matrix(matrix).determinant()\n",
    "        det += (-1)**(focus_column % 2) * matrix[0][focus_column] * sub_det\n",
    "\n",
    "        return det\n",
    "\n",
    "    def __add__(self, other) -> Matrix:\n",
    "        if other.shape != self.shape:\n",
    "            raise Exception('Matrix dimensions are mismatched ({} != {}). Please add (2) matrices of the same dimensions.'.format(self.shape, other.shape))\n",
    "        data, output = self.data, []\n",
    "        for i in range(self.rows):\n",
    "            output.append([])\n",
    "            for j in range(self.cols):\n",
    "                output[i].append(self.data[i][j] + other.data[i][j])\n",
    "        self.data = data\n",
    "        return Matrix(output)\n",
    "    \n",
    "    def __ladd__(self, other) -> Matrix:\n",
    "        return self.__add__(other)\n",
    "\n",
    "    def __radd__(self, other) -> Matrix:\n",
    "        return self.__add__(other)\n",
    "\n",
    "    def __sub__(self, other) -> Matrix:\n",
    "        if other.shape != self.shape:\n",
    "            raise Exception('Matrix dimensions are mismatched ({} != {}). Please subtract (2) matrices of the same dimensions.'.format(self.shape, other.shape))\n",
    "        data, output = self.data, []\n",
    "        for i in range(self.rows):\n",
    "            output.append([])\n",
    "            for j in range(self.cols):\n",
    "                output[i].append(self.data[i][j] - other.data[i][j])\n",
    "        self.data = data\n",
    "        return Matrix(output)\n",
    "    \n",
    "    def __lsub__(self, other) -> Matrix:\n",
    "        return self.__sub__(other)\n",
    "\n",
    "    def __rsub__(self, other) -> Matrix:\n",
    "        return self.__sub__(other)\n",
    "\n",
    "    def __mul__(self, other) -> Matrix:\n",
    "        if isinstance(other, Matrix) == False:\n",
    "            if isinstance(other, (int, float)) == False:\n",
    "                raise Exception('Expecting a matrix or a scalar of type int or float only.')\n",
    "        else:\n",
    "            if self.size != other.size:\n",
    "                raise Exception('Matrix dimensions are mismatched for pointwise matrix multiplication ({} != {})'.format(self.shape, other.shape))\n",
    "\n",
    "        data, output = self.data, []\n",
    "        \n",
    "        # Scalar multiplication\n",
    "        if isinstance(other, (int, float)):\n",
    "            for i in range(self.rows):\n",
    "                output.append([])\n",
    "                for j in range(self.cols):\n",
    "                    output[i].append(self.data[i][j] * other)\n",
    "\n",
    "        # Matrix multiplication (pointwise)\n",
    "        if isinstance(other, Matrix):\n",
    "            for i in range(self.rows):\n",
    "                output.append([])\n",
    "                for j in range(self.cols):\n",
    "                    output[i].append(self.data[i][j] * other.data[i][j])\n",
    "\n",
    "        self.data = data\n",
    "        return Matrix(output)\n",
    "\n",
    "    def __lmul__(self, other) -> Matrix:\n",
    "        return self.__mul__(other)\n",
    "\n",
    "    def __rmul__(self, other) -> Matrix:\n",
    "        return self.__mul__(other)\n",
    "\n",
    "    def __matmul__(self, other) -> Matrix:\n",
    "        if self.cols != other.rows:\n",
    "            raise Exception('Matrix dimensions are mismatched for matrix multiplication ({} @ {}: {} != {})'.format(self.shape, other.shape, self.shape[1], other.shape[0]))\n",
    "        data, output = self.data, []\n",
    "        n, m = self.shape[1], self.shape[1]\n",
    "        for i in range(n):\n",
    "            output.append([])\n",
    "            for j in range(m):\n",
    "                value = 0\n",
    "                for k in range(n):\n",
    "                    value += self.data[i][k] * other.data[k][j]\n",
    "                output[i].append(value)\n",
    "        self.data = data\n",
    "        return Matrix(output)\n",
    "    \n",
    "    def __lmatmul__(self, other) -> Matrix:\n",
    "        return __matmul__(self, other)\n",
    "    \n",
    "    def __rmatmul__(self, other) -> Matrix:\n",
    "        return __matmul__(self, other)\n",
    "\n",
    "    def __repr__(self) -> str:\n",
    "        matrix = str(self.data).replace('],', '],\\n ')\n",
    "        return \"<class: 'Matrix'>\\nDimensions: {} row(s) x {} column(s)\\n {}\\nSize: {}\".format(self.rows, self.cols, matrix, self.size)"
   ]
  },
  {
   "cell_type": "code",
   "execution_count": null,
   "metadata": {},
   "outputs": [],
   "source": [
    "def determinant_recursive(A, total=0):\n",
    "    # Section 1: store indices in list for row referencing\n",
    "    indices = list(range(len(A)))\n",
    "     \n",
    "    # Section 2: when at 2x2 submatrices recursive calls end\n",
    "    if len(A) == 2 and len(A[0]) == 2:\n",
    "        val = A[0][0] * A[1][1] - A[1][0] * A[0][1]\n",
    "        return val\n",
    " \n",
    "    # Section 3: define submatrix for focus column and \n",
    "    #      call this function\n",
    "    for fc in indices: # A) for each focus column, ...\n",
    "        # find the submatrix ...\n",
    "        As = copy_matrix(A) # B) make a copy, and ...\n",
    "        As = As[1:] # ... C) remove the first row\n",
    "        height = len(As) # D) \n",
    " \n",
    "        for i in range(height): \n",
    "            # E) for each remaining row of submatrix ...\n",
    "            #     remove the focus column elements\n",
    "            As[i] = As[i][0:fc] + As[i][fc+1:] \n",
    " \n",
    "        sign = (-1) ** (fc % 2) # F) \n",
    "        # G) pass submatrix recursively\n",
    "        sub_det = determinant_recursive(As)\n",
    "        # H) total all returns from recursion\n",
    "        total += sign * A[0][fc] * sub_det \n",
    " \n",
    "    return total"
   ]
  },
  {
   "cell_type": "code",
   "execution_count": 4,
   "metadata": {},
   "outputs": [
    {
     "ename": "NameError",
     "evalue": "name 'Matrix' is not defined",
     "output_type": "error",
     "traceback": [
      "\u001b[0;31m---------------------------------------------------------------------------\u001b[0m",
      "\u001b[0;31mNameError\u001b[0m                                 Traceback (most recent call last)",
      "Input \u001b[0;32mIn [4]\u001b[0m, in \u001b[0;36m<cell line: 1>\u001b[0;34m()\u001b[0m\n\u001b[0;32m----> 1\u001b[0m A \u001b[38;5;241m=\u001b[39m \u001b[43mMatrix\u001b[49m([[\u001b[38;5;241m1\u001b[39m, \u001b[38;5;241m0\u001b[39m, \u001b[38;5;241m0\u001b[39m, \u001b[38;5;241m0\u001b[39m], [\u001b[38;5;241m0\u001b[39m, \u001b[38;5;241m2\u001b[39m, \u001b[38;5;241m2\u001b[39m, \u001b[38;5;241m0\u001b[39m], [\u001b[38;5;241m0\u001b[39m, \u001b[38;5;241m0\u001b[39m, \u001b[38;5;241m3\u001b[39m, \u001b[38;5;241m0\u001b[39m], [\u001b[38;5;241m0\u001b[39m, \u001b[38;5;241m0\u001b[39m, \u001b[38;5;241m0\u001b[39m, \u001b[38;5;241m4\u001b[39m]])\n",
      "\u001b[0;31mNameError\u001b[0m: name 'Matrix' is not defined"
     ]
    }
   ],
   "source": [
    "A = Matrix([[1, 0, 0, 0], [0, 2, 2, 0], [0, 0, 3, 0], [0, 0, 0, 4]])"
   ]
  },
  {
   "cell_type": "code",
   "execution_count": 150,
   "metadata": {},
   "outputs": [
    {
     "data": {
      "text/plain": [
       "<class: 'Matrix'>\n",
       "Dimensions: 4 row(s) x 4 column(s)\n",
       " [[1, 0, 0, 0],\n",
       "  [0, 2, 2, 0],\n",
       "  [0, 0, 3, 0],\n",
       "  [0, 0, 0, 4]]\n",
       "Size: 16"
      ]
     },
     "execution_count": 150,
     "metadata": {},
     "output_type": "execute_result"
    }
   ],
   "source": [
    "A"
   ]
  },
  {
   "cell_type": "code",
   "execution_count": 129,
   "metadata": {},
   "outputs": [],
   "source": [
    "A.fill((0, 2), (0, 2), 5)"
   ]
  },
  {
   "cell_type": "code",
   "execution_count": 151,
   "metadata": {},
   "outputs": [
    {
     "ename": "Exception",
     "evalue": "Matrix must be a row or column vector only.",
     "output_type": "error",
     "traceback": [
      "\u001b[0;31m---------------------------------------------------------------------------\u001b[0m",
      "\u001b[0;31mException\u001b[0m                                 Traceback (most recent call last)",
      "\u001b[0;32m<ipython-input-151-0a0cd37282a5>\u001b[0m in \u001b[0;36m<module>\u001b[0;34m\u001b[0m\n\u001b[0;32m----> 1\u001b[0;31m \u001b[0mA\u001b[0m\u001b[0;34m.\u001b[0m\u001b[0mmagnitude\u001b[0m\u001b[0;34m(\u001b[0m\u001b[0;34m)\u001b[0m\u001b[0;34m\u001b[0m\u001b[0;34m\u001b[0m\u001b[0m\n\u001b[0m",
      "\u001b[0;32m<ipython-input-148-7445507a7601>\u001b[0m in \u001b[0;36mmagnitude\u001b[0;34m(self)\u001b[0m\n\u001b[1;32m     61\u001b[0m     \u001b[0;32mdef\u001b[0m \u001b[0mmagnitude\u001b[0m\u001b[0;34m(\u001b[0m\u001b[0mself\u001b[0m\u001b[0;34m)\u001b[0m \u001b[0;34m->\u001b[0m \u001b[0mfloat\u001b[0m\u001b[0;34m:\u001b[0m\u001b[0;34m\u001b[0m\u001b[0;34m\u001b[0m\u001b[0m\n\u001b[1;32m     62\u001b[0m         \u001b[0;32mif\u001b[0m \u001b[0;32mnot\u001b[0m \u001b[0;34m(\u001b[0m\u001b[0mself\u001b[0m\u001b[0;34m.\u001b[0m\u001b[0mshape\u001b[0m\u001b[0;34m[\u001b[0m\u001b[0;36m0\u001b[0m\u001b[0;34m]\u001b[0m \u001b[0;34m==\u001b[0m \u001b[0;36m1\u001b[0m \u001b[0;32mor\u001b[0m \u001b[0mself\u001b[0m\u001b[0;34m.\u001b[0m\u001b[0mshape\u001b[0m\u001b[0;34m[\u001b[0m\u001b[0;36m1\u001b[0m\u001b[0;34m]\u001b[0m \u001b[0;34m==\u001b[0m \u001b[0;36m1\u001b[0m\u001b[0;34m)\u001b[0m\u001b[0;34m:\u001b[0m\u001b[0;34m\u001b[0m\u001b[0;34m\u001b[0m\u001b[0m\n\u001b[0;32m---> 63\u001b[0;31m             \u001b[0;32mraise\u001b[0m \u001b[0mException\u001b[0m\u001b[0;34m(\u001b[0m\u001b[0;34m'Matrix must be a row or column vector only.'\u001b[0m\u001b[0;34m)\u001b[0m\u001b[0;34m\u001b[0m\u001b[0;34m\u001b[0m\u001b[0m\n\u001b[0m\u001b[1;32m     64\u001b[0m         \u001b[0mmatrix\u001b[0m \u001b[0;34m=\u001b[0m \u001b[0;34m[\u001b[0m\u001b[0;34m]\u001b[0m\u001b[0;34m\u001b[0m\u001b[0;34m\u001b[0m\u001b[0m\n\u001b[1;32m     65\u001b[0m         \u001b[0;32mfor\u001b[0m \u001b[0mi\u001b[0m \u001b[0;32min\u001b[0m \u001b[0mrange\u001b[0m\u001b[0;34m(\u001b[0m\u001b[0mself\u001b[0m\u001b[0;34m.\u001b[0m\u001b[0mrows\u001b[0m\u001b[0;34m)\u001b[0m\u001b[0;34m:\u001b[0m\u001b[0;34m\u001b[0m\u001b[0;34m\u001b[0m\u001b[0m\n",
      "\u001b[0;31mException\u001b[0m: Matrix must be a row or column vector only."
     ]
    }
   ],
   "source": [
    "A.magnitude()"
   ]
  },
  {
   "cell_type": "code",
   "execution_count": 111,
   "metadata": {},
   "outputs": [
    {
     "name": "stdout",
     "output_type": "stream",
     "text": [
      "(4, 4)\n",
      "16\n"
     ]
    }
   ],
   "source": [
    "print(A.shape)\n",
    "print(A.size)"
   ]
  },
  {
   "cell_type": "code",
   "execution_count": 112,
   "metadata": {},
   "outputs": [
    {
     "data": {
      "text/plain": [
       "<class: 'Matrix'>\n",
       "Dimensions: 4 row(s) x 4 column(s)\n",
       " [[5, 5, 0, 0],\n",
       "  [5, 5, 0, 0],\n",
       "  [0, 2, 3, 0],\n",
       "  [0, 0, 0, 4]]\n",
       "Size: 16"
      ]
     },
     "execution_count": 112,
     "metadata": {},
     "output_type": "execute_result"
    }
   ],
   "source": [
    "A.transpose()"
   ]
  },
  {
   "cell_type": "code",
   "execution_count": 82,
   "metadata": {},
   "outputs": [
    {
     "data": {
      "text/plain": [
       "<class: 'Matrix'>\n",
       "Dimensions: 4 row(s) x 4 column(s)\n",
       " [[10, 10, 0, 0],\n",
       "  [10, 10, 4, 0],\n",
       "  [0, 0, 6, 0],\n",
       "  [0, 0, 0, 8]]\n",
       "Size: 16"
      ]
     },
     "execution_count": 82,
     "metadata": {},
     "output_type": "execute_result"
    }
   ],
   "source": [
    "A+A"
   ]
  },
  {
   "cell_type": "code",
   "execution_count": 56,
   "metadata": {},
   "outputs": [
    {
     "data": {
      "text/plain": [
       "<class: 'Matrix'>\n",
       "Dimensions: 4 row(s) x 4 column(s)\n",
       " [[0, 0, 0, 0],\n",
       "  [0, 0, 0, 0],\n",
       "  [0, 0, 0, 0],\n",
       "  [0, 0, 0, 0]]\n",
       "Size: 16"
      ]
     },
     "execution_count": 56,
     "metadata": {},
     "output_type": "execute_result"
    }
   ],
   "source": [
    "A-A"
   ]
  },
  {
   "cell_type": "code",
   "execution_count": 57,
   "metadata": {},
   "outputs": [
    {
     "data": {
      "text/plain": [
       "<class: 'Matrix'>\n",
       "Dimensions: 4 row(s) x 4 column(s)\n",
       " [[1, 0, 0, 0],\n",
       "  [0, 2, 2, 0],\n",
       "  [0, 0, 3, 0],\n",
       "  [0, 0, 0, 4]]\n",
       "Size: 16"
      ]
     },
     "execution_count": 57,
     "metadata": {},
     "output_type": "execute_result"
    }
   ],
   "source": [
    "A"
   ]
  },
  {
   "cell_type": "code",
   "execution_count": 141,
   "metadata": {},
   "outputs": [
    {
     "data": {
      "text/plain": [
       "<class: 'Matrix'>\n",
       "Dimensions: 4 row(s) x 4 column(s)\n",
       " [[2, 0, 0, 0],\n",
       "  [0, 4, 4, 0],\n",
       "  [0, 0, 6, 0],\n",
       "  [0, 0, 0, 8]]\n",
       "Size: 16"
      ]
     },
     "execution_count": 141,
     "metadata": {},
     "output_type": "execute_result"
    }
   ],
   "source": [
    "A * 2"
   ]
  },
  {
   "cell_type": "code",
   "execution_count": 59,
   "metadata": {},
   "outputs": [
    {
     "data": {
      "text/plain": [
       "<class: 'Matrix'>\n",
       "Dimensions: 4 row(s) x 4 column(s)\n",
       " [[2, 0, 0, 0],\n",
       "  [0, 4, 0, 0],\n",
       "  [0, 4, 6, 0],\n",
       "  [0, 0, 0, 8]]\n",
       "Size: 16"
      ]
     },
     "execution_count": 59,
     "metadata": {},
     "output_type": "execute_result"
    }
   ],
   "source": [
    "A.transpose() * 2"
   ]
  },
  {
   "cell_type": "code",
   "execution_count": 131,
   "metadata": {},
   "outputs": [
    {
     "data": {
      "text/plain": [
       "<class: 'Matrix'>\n",
       "Dimensions: 4 row(s) x 4 column(s)\n",
       " [[20, 20, 0, 0],\n",
       "  [20, 20, 8, 0],\n",
       "  [0, 0, 12, 0],\n",
       "  [0, 0, 0, 16]]\n",
       "Size: 16"
      ]
     },
     "execution_count": 131,
     "metadata": {},
     "output_type": "execute_result"
    }
   ],
   "source": [
    "2 * A - A + 3 * A"
   ]
  },
  {
   "cell_type": "code",
   "execution_count": 142,
   "metadata": {},
   "outputs": [
    {
     "data": {
      "text/plain": [
       "<class: 'Matrix'>\n",
       "Dimensions: 4 row(s) x 4 column(s)\n",
       " [[1, 0, 0, 0],\n",
       "  [0, 4, 4, 0],\n",
       "  [0, 0, 9, 0],\n",
       "  [0, 0, 0, 16]]\n",
       "Size: 16"
      ]
     },
     "execution_count": 142,
     "metadata": {},
     "output_type": "execute_result"
    }
   ],
   "source": [
    "A * A"
   ]
  },
  {
   "cell_type": "code",
   "execution_count": 145,
   "metadata": {},
   "outputs": [
    {
     "data": {
      "text/plain": [
       "<class: 'Matrix'>\n",
       "Dimensions: 4 row(s) x 4 column(s)\n",
       " [[1, 0, 0, 0],\n",
       "  [0, 2, 2, 0],\n",
       "  [0, 0, 3, 0],\n",
       "  [0, 0, 0, 4]]\n",
       "Size: 16"
      ]
     },
     "execution_count": 145,
     "metadata": {},
     "output_type": "execute_result"
    }
   ],
   "source": [
    "A"
   ]
  },
  {
   "cell_type": "code",
   "execution_count": 65,
   "metadata": {},
   "outputs": [
    {
     "data": {
      "text/plain": [
       "<class: 'Matrix'>\n",
       "Dimensions: 4 row(s) x 1 column(s)\n",
       " [[1],\n",
       "  [2],\n",
       "  [3],\n",
       "  [4]]\n",
       "Size: 4"
      ]
     },
     "execution_count": 65,
     "metadata": {},
     "output_type": "execute_result"
    }
   ],
   "source": [
    "A.diagonal()"
   ]
  },
  {
   "cell_type": "code",
   "execution_count": 153,
   "metadata": {},
   "outputs": [],
   "source": [
    "B = Matrix([[1], [0]])"
   ]
  },
  {
   "cell_type": "code",
   "execution_count": 154,
   "metadata": {},
   "outputs": [
    {
     "data": {
      "text/plain": [
       "<class: 'Matrix'>\n",
       "Dimensions: 2 row(s) x 1 column(s)\n",
       " [[1],\n",
       "  [0]]\n",
       "Size: 2"
      ]
     },
     "execution_count": 154,
     "metadata": {},
     "output_type": "execute_result"
    }
   ],
   "source": [
    "B"
   ]
  },
  {
   "cell_type": "code",
   "execution_count": 155,
   "metadata": {},
   "outputs": [
    {
     "data": {
      "text/plain": [
       "<class: 'Matrix'>\n",
       "Dimensions: 4 row(s) x 4 column(s)\n",
       " [[1, 0, 0, 0],\n",
       "  [0, 4, 10, 0],\n",
       "  [0, 0, 9, 0],\n",
       "  [0, 0, 0, 16]]\n",
       "Size: 16"
      ]
     },
     "execution_count": 155,
     "metadata": {},
     "output_type": "execute_result"
    }
   ],
   "source": [
    "A @ A"
   ]
  },
  {
   "cell_type": "code",
   "execution_count": 156,
   "metadata": {},
   "outputs": [
    {
     "ename": "Exception",
     "evalue": "Matrix dimensions are mismatched for matrix multiplication ((4, 4) @ (2, 1): 4 != 2)",
     "output_type": "error",
     "traceback": [
      "\u001b[0;31m---------------------------------------------------------------------------\u001b[0m",
      "\u001b[0;31mException\u001b[0m                                 Traceback (most recent call last)",
      "\u001b[0;32m<ipython-input-156-455d622f3b50>\u001b[0m in \u001b[0;36m<module>\u001b[0;34m\u001b[0m\n\u001b[0;32m----> 1\u001b[0;31m \u001b[0mA\u001b[0m \u001b[0;34m@\u001b[0m \u001b[0mB\u001b[0m\u001b[0;34m\u001b[0m\u001b[0;34m\u001b[0m\u001b[0m\n\u001b[0m",
      "\u001b[0;32m<ipython-input-148-7445507a7601>\u001b[0m in \u001b[0;36m__matmul__\u001b[0;34m(self, other)\u001b[0m\n\u001b[1;32m    159\u001b[0m     \u001b[0;32mdef\u001b[0m \u001b[0m__matmul__\u001b[0m\u001b[0;34m(\u001b[0m\u001b[0mself\u001b[0m\u001b[0;34m,\u001b[0m \u001b[0mother\u001b[0m\u001b[0;34m)\u001b[0m \u001b[0;34m->\u001b[0m \u001b[0mMatrix\u001b[0m\u001b[0;34m:\u001b[0m\u001b[0;34m\u001b[0m\u001b[0;34m\u001b[0m\u001b[0m\n\u001b[1;32m    160\u001b[0m         \u001b[0;32mif\u001b[0m \u001b[0mself\u001b[0m\u001b[0;34m.\u001b[0m\u001b[0mcols\u001b[0m \u001b[0;34m!=\u001b[0m \u001b[0mother\u001b[0m\u001b[0;34m.\u001b[0m\u001b[0mrows\u001b[0m\u001b[0;34m:\u001b[0m\u001b[0;34m\u001b[0m\u001b[0;34m\u001b[0m\u001b[0m\n\u001b[0;32m--> 161\u001b[0;31m             \u001b[0;32mraise\u001b[0m \u001b[0mException\u001b[0m\u001b[0;34m(\u001b[0m\u001b[0;34m'Matrix dimensions are mismatched for matrix multiplication ({} @ {}: {} != {})'\u001b[0m\u001b[0;34m.\u001b[0m\u001b[0mformat\u001b[0m\u001b[0;34m(\u001b[0m\u001b[0mself\u001b[0m\u001b[0;34m.\u001b[0m\u001b[0mshape\u001b[0m\u001b[0;34m,\u001b[0m \u001b[0mother\u001b[0m\u001b[0;34m.\u001b[0m\u001b[0mshape\u001b[0m\u001b[0;34m,\u001b[0m \u001b[0mself\u001b[0m\u001b[0;34m.\u001b[0m\u001b[0mshape\u001b[0m\u001b[0;34m[\u001b[0m\u001b[0;36m1\u001b[0m\u001b[0;34m]\u001b[0m\u001b[0;34m,\u001b[0m \u001b[0mother\u001b[0m\u001b[0;34m.\u001b[0m\u001b[0mshape\u001b[0m\u001b[0;34m[\u001b[0m\u001b[0;36m0\u001b[0m\u001b[0;34m]\u001b[0m\u001b[0;34m)\u001b[0m\u001b[0;34m)\u001b[0m\u001b[0;34m\u001b[0m\u001b[0;34m\u001b[0m\u001b[0m\n\u001b[0m\u001b[1;32m    162\u001b[0m         \u001b[0mdata\u001b[0m\u001b[0;34m,\u001b[0m \u001b[0moutput\u001b[0m \u001b[0;34m=\u001b[0m \u001b[0mself\u001b[0m\u001b[0;34m.\u001b[0m\u001b[0mdata\u001b[0m\u001b[0;34m,\u001b[0m \u001b[0;34m[\u001b[0m\u001b[0;34m]\u001b[0m\u001b[0;34m\u001b[0m\u001b[0;34m\u001b[0m\u001b[0m\n\u001b[1;32m    163\u001b[0m         \u001b[0mn\u001b[0m\u001b[0;34m,\u001b[0m \u001b[0mm\u001b[0m \u001b[0;34m=\u001b[0m \u001b[0mself\u001b[0m\u001b[0;34m.\u001b[0m\u001b[0mshape\u001b[0m\u001b[0;34m[\u001b[0m\u001b[0;36m1\u001b[0m\u001b[0;34m]\u001b[0m\u001b[0;34m,\u001b[0m \u001b[0mself\u001b[0m\u001b[0;34m.\u001b[0m\u001b[0mshape\u001b[0m\u001b[0;34m[\u001b[0m\u001b[0;36m1\u001b[0m\u001b[0;34m]\u001b[0m\u001b[0;34m\u001b[0m\u001b[0;34m\u001b[0m\u001b[0m\n",
      "\u001b[0;31mException\u001b[0m: Matrix dimensions are mismatched for matrix multiplication ((4, 4) @ (2, 1): 4 != 2)"
     ]
    }
   ],
   "source": [
    "A @ B"
   ]
  },
  {
   "cell_type": "code",
   "execution_count": 157,
   "metadata": {},
   "outputs": [
    {
     "data": {
      "text/plain": [
       "<class: 'Matrix'>\n",
       "Dimensions: 1 row(s) x 1 column(s)\n",
       " [[1]]\n",
       "Size: 1"
      ]
     },
     "execution_count": 157,
     "metadata": {},
     "output_type": "execute_result"
    }
   ],
   "source": [
    "B.diagonal()"
   ]
  },
  {
   "cell_type": "code",
   "execution_count": 158,
   "metadata": {},
   "outputs": [],
   "source": [
    "B.assign(0, 0, 5)"
   ]
  },
  {
   "cell_type": "code",
   "execution_count": 159,
   "metadata": {},
   "outputs": [
    {
     "data": {
      "text/plain": [
       "<class: 'Matrix'>\n",
       "Dimensions: 2 row(s) x 1 column(s)\n",
       " [[5],\n",
       "  [0]]\n",
       "Size: 2"
      ]
     },
     "execution_count": 159,
     "metadata": {},
     "output_type": "execute_result"
    }
   ],
   "source": [
    "B"
   ]
  },
  {
   "cell_type": "code",
   "execution_count": 160,
   "metadata": {},
   "outputs": [
    {
     "data": {
      "text/plain": [
       "5.0"
      ]
     },
     "execution_count": 160,
     "metadata": {},
     "output_type": "execute_result"
    }
   ],
   "source": [
    "B.magnitude()"
   ]
  },
  {
   "cell_type": "code",
   "execution_count": 66,
   "metadata": {},
   "outputs": [
    {
     "ename": "SyntaxError",
     "evalue": "invalid syntax (<ipython-input-66-2b04fd954c7e>, line 1)",
     "output_type": "error",
     "traceback": [
      "\u001b[0;36m  File \u001b[0;32m\"<ipython-input-66-2b04fd954c7e>\"\u001b[0;36m, line \u001b[0;32m1\u001b[0m\n\u001b[0;31m    A.fill(0:4, 0:1, 7)\u001b[0m\n\u001b[0m            ^\u001b[0m\n\u001b[0;31mSyntaxError\u001b[0m\u001b[0;31m:\u001b[0m invalid syntax\n"
     ]
    }
   ],
   "source": [
    "A.fill(0:4, 0:1, 7)"
   ]
  },
  {
   "cell_type": "code",
   "execution_count": 20,
   "metadata": {},
   "outputs": [
    {
     "data": {
      "text/plain": [
       "3"
      ]
     },
     "execution_count": 20,
     "metadata": {},
     "output_type": "execute_result"
    }
   ],
   "source": [
    "A.retrieve(2, 2)"
   ]
  },
  {
   "cell_type": "code",
   "execution_count": 24,
   "metadata": {},
   "outputs": [
    {
     "ename": "Exception",
     "evalue": "Matrix dimensions are mismatched ((4, 4) != (2, 1)). Please add (2) matrices of the same dimensions.",
     "output_type": "error",
     "traceback": [
      "\u001b[0;31m---------------------------------------------------------------------------\u001b[0m",
      "\u001b[0;31mException\u001b[0m                                 Traceback (most recent call last)",
      "\u001b[0;32m<ipython-input-24-17a53b3d2418>\u001b[0m in \u001b[0;36m<module>\u001b[0;34m\u001b[0m\n\u001b[0;32m----> 1\u001b[0;31m \u001b[0mA\u001b[0m\u001b[0;34m+\u001b[0m\u001b[0mB\u001b[0m\u001b[0;34m\u001b[0m\u001b[0;34m\u001b[0m\u001b[0m\n\u001b[0m",
      "\u001b[0;32m<ipython-input-1-eae122f0278c>\u001b[0m in \u001b[0;36m__add__\u001b[0;34m(self, other)\u001b[0m\n\u001b[1;32m     80\u001b[0m     \u001b[0;32mdef\u001b[0m \u001b[0m__add__\u001b[0m\u001b[0;34m(\u001b[0m\u001b[0mself\u001b[0m\u001b[0;34m,\u001b[0m \u001b[0mother\u001b[0m\u001b[0;34m)\u001b[0m \u001b[0;34m->\u001b[0m \u001b[0mobject\u001b[0m\u001b[0;34m:\u001b[0m\u001b[0;34m\u001b[0m\u001b[0;34m\u001b[0m\u001b[0m\n\u001b[1;32m     81\u001b[0m         \u001b[0;32mif\u001b[0m \u001b[0mother\u001b[0m\u001b[0;34m.\u001b[0m\u001b[0mshape\u001b[0m \u001b[0;34m!=\u001b[0m \u001b[0mself\u001b[0m\u001b[0;34m.\u001b[0m\u001b[0mshape\u001b[0m\u001b[0;34m:\u001b[0m\u001b[0;34m\u001b[0m\u001b[0;34m\u001b[0m\u001b[0m\n\u001b[0;32m---> 82\u001b[0;31m             \u001b[0;32mraise\u001b[0m \u001b[0mException\u001b[0m\u001b[0;34m(\u001b[0m\u001b[0;34m'Matrix dimensions are mismatched ({} != {}). Please add (2) matrices of the same dimensions.'\u001b[0m\u001b[0;34m.\u001b[0m\u001b[0mformat\u001b[0m\u001b[0;34m(\u001b[0m\u001b[0mself\u001b[0m\u001b[0;34m.\u001b[0m\u001b[0mshape\u001b[0m\u001b[0;34m,\u001b[0m \u001b[0mother\u001b[0m\u001b[0;34m.\u001b[0m\u001b[0mshape\u001b[0m\u001b[0;34m)\u001b[0m\u001b[0;34m)\u001b[0m\u001b[0;34m\u001b[0m\u001b[0;34m\u001b[0m\u001b[0m\n\u001b[0m\u001b[1;32m     83\u001b[0m         \u001b[0mdata\u001b[0m\u001b[0;34m,\u001b[0m \u001b[0moutput\u001b[0m \u001b[0;34m=\u001b[0m \u001b[0mself\u001b[0m\u001b[0;34m.\u001b[0m\u001b[0mdata\u001b[0m\u001b[0;34m,\u001b[0m \u001b[0;34m[\u001b[0m\u001b[0;34m]\u001b[0m\u001b[0;34m\u001b[0m\u001b[0;34m\u001b[0m\u001b[0m\n\u001b[1;32m     84\u001b[0m         \u001b[0;32mfor\u001b[0m \u001b[0mi\u001b[0m \u001b[0;32min\u001b[0m \u001b[0mrange\u001b[0m\u001b[0;34m(\u001b[0m\u001b[0mself\u001b[0m\u001b[0;34m.\u001b[0m\u001b[0mrows\u001b[0m\u001b[0;34m)\u001b[0m\u001b[0;34m:\u001b[0m\u001b[0;34m\u001b[0m\u001b[0;34m\u001b[0m\u001b[0m\n",
      "\u001b[0;31mException\u001b[0m: Matrix dimensions are mismatched ((4, 4) != (2, 1)). Please add (2) matrices of the same dimensions."
     ]
    }
   ],
   "source": [
    "A+B"
   ]
  },
  {
   "cell_type": "code",
   "execution_count": 162,
   "metadata": {},
   "outputs": [],
   "source": [
    "C = Matrix([[]])"
   ]
  },
  {
   "cell_type": "code",
   "execution_count": 163,
   "metadata": {},
   "outputs": [
    {
     "data": {
      "text/plain": [
       "<class: 'Matrix'>\n",
       "Dimensions: 1 row(s) x 0 column(s)\n",
       " [[]]\n",
       "Size: 0"
      ]
     },
     "execution_count": 163,
     "metadata": {},
     "output_type": "execute_result"
    }
   ],
   "source": [
    "C"
   ]
  }
 ],
 "metadata": {
  "kernelspec": {
   "display_name": "Python 3 (ipykernel)",
   "language": "python",
   "name": "python3"
  },
  "language_info": {
   "codemirror_mode": {
    "name": "ipython",
    "version": 3
   },
   "file_extension": ".py",
   "mimetype": "text/x-python",
   "name": "python",
   "nbconvert_exporter": "python",
   "pygments_lexer": "ipython3",
   "version": "3.10.6"
  }
 },
 "nbformat": 4,
 "nbformat_minor": 4
}
